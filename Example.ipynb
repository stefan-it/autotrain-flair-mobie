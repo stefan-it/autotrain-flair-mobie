{
 "cells": [
  {
   "cell_type": "code",
   "execution_count": 236,
   "id": "0e0bac08",
   "metadata": {},
   "outputs": [],
   "source": [
    "import os\n",
    "import re\n",
    "\n",
    "import pandas as pd\n",
    "\n",
    "from dataclasses import dataclass\n",
    "from tabulate import tabulate\n",
    "from huggingface_hub import (\n",
    "    login,\n",
    "    HfApi,\n",
    "    list_models,\n",
    "    hf_hub_download,\n",
    "    ModelCard,\n",
    "    ModelCardData,\n",
    "    update_repo_visibility\n",
    ")"
   ]
  },
  {
   "cell_type": "code",
   "execution_count": 3,
   "id": "db42a6b2",
   "metadata": {},
   "outputs": [
    {
     "name": "stdout",
     "output_type": "stream",
     "text": [
      "Token is valid (permission: write).\n",
      "Your token has been saved in your configured git credential helpers (store).\n",
      "Your token has been saved to /home/stefan/.cache/huggingface/token\n",
      "Login successful\n"
     ]
    }
   ],
   "source": [
    "# Hub Login\n",
    "hf_token = os.environ.get(\"HF_TOKEN\")\n",
    "\n",
    "login(token=hf_token, add_to_git_credential=True)\n",
    "api = HfApi()"
   ]
  },
  {
   "cell_type": "code",
   "execution_count": 16,
   "id": "4e3328f4",
   "metadata": {},
   "outputs": [],
   "source": [
    "model_search_string = \"autotrain-flair-mobie-gbert_base-\"\n",
    "trained_models = list(list_models(author=\"stefan-it\", search=model_search_string))"
   ]
  },
  {
   "cell_type": "code",
   "execution_count": 225,
   "id": "bc2146b2",
   "metadata": {},
   "outputs": [
    {
     "name": "stdout",
     "output_type": "stream",
     "text": [
      "stefan-it/autotrain-flair-mobie-gbert_base-bs16-e10-lr3e-05-1\n",
      "stefan-it/autotrain-flair-mobie-gbert_base-bs16-e10-lr5e-05-1\n",
      "stefan-it/autotrain-flair-mobie-gbert_base-bs16-e10-lr3e-05-2\n",
      "stefan-it/autotrain-flair-mobie-gbert_base-bs16-e10-lr5e-05-2\n",
      "stefan-it/autotrain-flair-mobie-gbert_base-bs16-e10-lr3e-05-3\n",
      "stefan-it/autotrain-flair-mobie-gbert_base-bs16-e10-lr5e-05-3\n",
      "stefan-it/autotrain-flair-mobie-gbert_base-bs16-e10-lr3e-05-4\n",
      "stefan-it/autotrain-flair-mobie-gbert_base-bs16-e10-lr5e-05-4\n",
      "stefan-it/autotrain-flair-mobie-gbert_base-bs16-e10-lr3e-05-5\n",
      "stefan-it/autotrain-flair-mobie-gbert_base-bs16-e10-lr5e-05-5\n"
     ]
    }
   ],
   "source": [
    "# Display model ids\n",
    "\n",
    "model_ids = [model.modelId for model in trained_models]\n",
    "print(\"\\n\".join(model_ids))"
   ]
  },
  {
   "cell_type": "code",
   "execution_count": 53,
   "id": "d7373f3c",
   "metadata": {},
   "outputs": [],
   "source": [
    "hyper_parameter_regex = re.compile(\".*(?P<batch_size>bs.*?)-(?P<epoch>e.*?)-(?P<learning_rate>lr.*?)-(?P<seed>\\d+)$\")\n",
    "\n",
    "@dataclass\n",
    "class ModelInfo:\n",
    "    model_id: str\n",
    "    dev_f1_score: float\n",
    "    batch_size: int\n",
    "    epoch: int\n",
    "    learning_rate: float\n",
    "    seed: int"
   ]
  },
  {
   "cell_type": "code",
   "execution_count": 57,
   "id": "e0b7ebba",
   "metadata": {},
   "outputs": [],
   "source": [
    "# Get best model score from training log\n",
    "def get_best_model_score(input_file: str) -> float:\n",
    "    all_dev_results = []\n",
    "    with open(input_file, \"rt\") as f_p:\n",
    "        for line in f_p:\n",
    "            line = line.rstrip()\n",
    "            if \"f1-score (micro avg)\" in line:\n",
    "                dev_result = line.split(\" \")[-1]\n",
    "                all_dev_results.append(dev_result)\n",
    "\n",
    "        return max([float(value) for value in all_dev_results])"
   ]
  },
  {
   "cell_type": "code",
   "execution_count": 81,
   "id": "80e48e43",
   "metadata": {},
   "outputs": [],
   "source": [
    "# Get best f1-score from Flair training log for each model\n",
    "# and construct nice ModelInfo instance\n",
    "model_infos = []\n",
    "\n",
    "hyper_params = [\"batch_size\", \"epoch\", \"learning_rate\", \"seed\"]\n",
    "\n",
    "for model_id in model_ids:\n",
    "    # Fetch Flair training log\n",
    "    training_log_file = hf_hub_download(repo_id=model_id, filename=\"training.log\")\n",
    "    dev_f1_score = get_best_model_score(training_log_file)\n",
    "    \n",
    "    matches = hyper_parameter_regex.match(model_id)\n",
    "    \n",
    "    params = [matches.group(hyper_param) for hyper_param in hyper_params]\n",
    "    model_info_args = (model_id, dev_f1_score, *params)\n",
    "\n",
    "    model_infos.append(ModelInfo(*model_info_args))"
   ]
  },
  {
   "cell_type": "code",
   "execution_count": 227,
   "id": "53c61eb7",
   "metadata": {},
   "outputs": [
    {
     "name": "stdout",
     "output_type": "stream",
     "text": [
      "[ModelInfo(model_id='stefan-it/autotrain-flair-mobie-gbert_base-bs16-e10-lr3e-05-1', dev_f1_score=0.8392, batch_size='bs16', epoch='e10', learning_rate='lr3e-05', seed='1'), ModelInfo(model_id='stefan-it/autotrain-flair-mobie-gbert_base-bs16-e10-lr5e-05-1', dev_f1_score=0.8446, batch_size='bs16', epoch='e10', learning_rate='lr5e-05', seed='1'), ModelInfo(model_id='stefan-it/autotrain-flair-mobie-gbert_base-bs16-e10-lr3e-05-2', dev_f1_score=0.8445, batch_size='bs16', epoch='e10', learning_rate='lr3e-05', seed='2'), ModelInfo(model_id='stefan-it/autotrain-flair-mobie-gbert_base-bs16-e10-lr5e-05-2', dev_f1_score=0.8495, batch_size='bs16', epoch='e10', learning_rate='lr5e-05', seed='2'), ModelInfo(model_id='stefan-it/autotrain-flair-mobie-gbert_base-bs16-e10-lr3e-05-3', dev_f1_score=0.8495, batch_size='bs16', epoch='e10', learning_rate='lr3e-05', seed='3'), ModelInfo(model_id='stefan-it/autotrain-flair-mobie-gbert_base-bs16-e10-lr5e-05-3', dev_f1_score=0.8455, batch_size='bs16', epoch='e10', learning_rate='lr5e-05', seed='3'), ModelInfo(model_id='stefan-it/autotrain-flair-mobie-gbert_base-bs16-e10-lr3e-05-4', dev_f1_score=0.8381, batch_size='bs16', epoch='e10', learning_rate='lr3e-05', seed='4'), ModelInfo(model_id='stefan-it/autotrain-flair-mobie-gbert_base-bs16-e10-lr5e-05-4', dev_f1_score=0.8419, batch_size='bs16', epoch='e10', learning_rate='lr5e-05', seed='4'), ModelInfo(model_id='stefan-it/autotrain-flair-mobie-gbert_base-bs16-e10-lr3e-05-5', dev_f1_score=0.8449, batch_size='bs16', epoch='e10', learning_rate='lr3e-05', seed='5'), ModelInfo(model_id='stefan-it/autotrain-flair-mobie-gbert_base-bs16-e10-lr5e-05-5', dev_f1_score=0.8476, batch_size='bs16', epoch='e10', learning_rate='lr5e-05', seed='5')]\n"
     ]
    }
   ],
   "source": [
    "print(model_infos)"
   ]
  },
  {
   "cell_type": "code",
   "execution_count": 86,
   "id": "a76a5884",
   "metadata": {},
   "outputs": [
    {
     "name": "stdout",
     "output_type": "stream",
     "text": [
      "{'bs16-e10-lr5e-05', 'bs16-e10-lr3e-05'}\n"
     ]
    }
   ],
   "source": [
    "# Find out all hyper-parameter configurations: (Batch Size, Epoch, Learning Rate)\n",
    "\n",
    "configurations = set([\n",
    "    f\"{model_info.batch_size}-{model_info.epoch}-{model_info.learning_rate}\" for model_info in model_infos\n",
    "])\n",
    "\n",
    "print(configurations)"
   ]
  },
  {
   "cell_type": "code",
   "execution_count": 105,
   "id": "091397ee",
   "metadata": {},
   "outputs": [],
   "source": [
    "df_data = [\n",
    "    [configuration, model_info.dev_f1_score\n",
    "    ]\n",
    "    for model_info in model_infos\n",
    "    for configuration in configurations\n",
    "    \n",
    "    if f\"{model_info.batch_size}-{model_info.epoch}-{model_info.learning_rate}\" == configuration\n",
    "]"
   ]
  },
  {
   "cell_type": "code",
   "execution_count": 106,
   "id": "37b7e29a",
   "metadata": {},
   "outputs": [
    {
     "name": "stdout",
     "output_type": "stream",
     "text": [
      "      Configuration  F1-Score\n",
      "0  bs16-e10-lr3e-05    0.8392\n",
      "1  bs16-e10-lr5e-05    0.8446\n",
      "2  bs16-e10-lr3e-05    0.8445\n",
      "3  bs16-e10-lr5e-05    0.8495\n",
      "4  bs16-e10-lr3e-05    0.8495\n",
      "5  bs16-e10-lr5e-05    0.8455\n",
      "6  bs16-e10-lr3e-05    0.8381\n",
      "7  bs16-e10-lr5e-05    0.8419\n",
      "8  bs16-e10-lr3e-05    0.8449\n",
      "9  bs16-e10-lr5e-05    0.8476\n"
     ]
    }
   ],
   "source": [
    "df = pd.DataFrame(df_data, columns=[\"Configuration\", \"F1-Score\"])\n",
    "print(df)"
   ]
  },
  {
   "cell_type": "code",
   "execution_count": 109,
   "id": "29d29cf7",
   "metadata": {},
   "outputs": [],
   "source": [
    "df = df[df.duplicated(\"Configuration\", keep=False)].groupby(\"Configuration\")[\"F1-Score\"].apply(list).reset_index()"
   ]
  },
  {
   "cell_type": "code",
   "execution_count": 111,
   "id": "0c8b77a1",
   "metadata": {},
   "outputs": [
    {
     "name": "stdout",
     "output_type": "stream",
     "text": [
      "      Configuration                                  F1-Score\n",
      "0  bs16-e10-lr3e-05  [0.8392, 0.8445, 0.8495, 0.8381, 0.8449]\n",
      "1  bs16-e10-lr5e-05  [0.8446, 0.8495, 0.8455, 0.8419, 0.8476]\n"
     ]
    }
   ],
   "source": [
    "print(df)"
   ]
  },
  {
   "cell_type": "code",
   "execution_count": 137,
   "id": "62bf1b17",
   "metadata": {},
   "outputs": [],
   "source": [
    "# How many seeds do we have?\n",
    "number_seeds = len(df[\"F1-Score\"].to_list()[0])\n",
    "seed_columns = [f\"Seed {index + 1}\" for index in range(number_seeds)]\n",
    "\n",
    "split = pd.DataFrame(df[\"F1-Score\"].to_list(), columns=seed_columns)"
   ]
  },
  {
   "cell_type": "code",
   "execution_count": 138,
   "id": "d1ca131c",
   "metadata": {},
   "outputs": [
    {
     "name": "stdout",
     "output_type": "stream",
     "text": [
      "   Seed 1  Seed 2  Seed 3  Seed 4  Seed 5\n",
      "0  0.8392  0.8445  0.8495  0.8381  0.8449\n",
      "1  0.8446  0.8495  0.8455  0.8419  0.8476\n"
     ]
    }
   ],
   "source": [
    "print(split)"
   ]
  },
  {
   "cell_type": "code",
   "execution_count": 191,
   "id": "1c57ca92",
   "metadata": {},
   "outputs": [
    {
     "name": "stdout",
     "output_type": "stream",
     "text": [
      "      Configuration  Seed 1  Seed 2  Seed 3  Seed 4  Seed 5  Average    Std.\n",
      "1  bs16-e10-lr5e-05  0.8446  0.8495  0.8455  0.8419  0.8476   0.8458  0.0029\n",
      "0  bs16-e10-lr3e-05  0.8392  0.8445  0.8495  0.8381  0.8449   0.8432  0.0046\n"
     ]
    }
   ],
   "source": [
    "final_df = pd.concat([df, split], axis=1)\n",
    "final_df = final_df.drop(\"F1-Score\", axis=1)\n",
    "final_df[\"Average\"] = final_df[seed_columns].mean(axis=1).round(4)\n",
    "final_df[\"Std.\"] = final_df[seed_columns].std(axis=1).round(4)\n",
    "\n",
    "final_df.sort_values(by=\"Average\", ascending=False, inplace=True)\n",
    "\n",
    "print(final_df)"
   ]
  },
  {
   "cell_type": "code",
   "execution_count": 192,
   "id": "679837a5",
   "metadata": {},
   "outputs": [
    {
     "name": "stdout",
     "output_type": "stream",
     "text": [
      "| Configuration    |   Seed 1 |   Seed 2 |   Seed 3 |   Seed 4 |   Seed 5 |   Average |   Std. |\n",
      "|:-----------------|---------:|---------:|---------:|---------:|---------:|----------:|-------:|\n",
      "| bs16-e10-lr5e-05 |   0.8446 |   0.8495 |   0.8455 |   0.8419 |   0.8476 |    0.8458 | 0.0029 |\n",
      "| bs16-e10-lr3e-05 |   0.8392 |   0.8445 |   0.8495 |   0.8381 |   0.8449 |    0.8432 | 0.0046 |\n"
     ]
    }
   ],
   "source": [
    "print(final_df.to_markdown(index=False))"
   ]
  },
  {
   "cell_type": "code",
   "execution_count": 233,
   "id": "798d41e2",
   "metadata": {},
   "outputs": [
    {
     "name": "stdout",
     "output_type": "stream",
     "text": [
      "ModelInfo(model_id='stefan-it/autotrain-flair-mobie-gbert_base-bs16-e10-lr3e-05-3', dev_f1_score=0.8495, batch_size='bs16', epoch='e10', learning_rate='lr3e-05', seed='3')\n",
      "\n",
      "Test Results Table:\n",
      "\n",
      "| Configuration      | Seed 1      | Seed 2      | Seed 3          | Seed 4      | Seed 5       | Average         |\n",
      "|--------------------|-------------|-------------|-----------------|-------------|--------------|-----------------|\n",
      "| `bs16-e10-lr5e-05` | [0.8446][1] | [0.8495][2] | [0.8455][3]     | [0.8419][4] | [0.8476][5]  | 0.8458 ± 0.0029 |\n",
      "| `bs16-e10-lr3e-05` | [0.8392][6] | [0.8445][7] | [**0.8495**][8] | [0.8381][9] | [0.8449][10] | 0.8432 ± 0.0046 |\n",
      "\n",
      "[1]: https://hf.co/stefan-it/autotrain-flair-mobie-gbert_base-bs16-e10-lr5e-05-1\n",
      "[2]: https://hf.co/stefan-it/autotrain-flair-mobie-gbert_base-bs16-e10-lr5e-05-2\n",
      "[3]: https://hf.co/stefan-it/autotrain-flair-mobie-gbert_base-bs16-e10-lr5e-05-3\n",
      "[4]: https://hf.co/stefan-it/autotrain-flair-mobie-gbert_base-bs16-e10-lr5e-05-4\n",
      "[5]: https://hf.co/stefan-it/autotrain-flair-mobie-gbert_base-bs16-e10-lr5e-05-5\n",
      "[6]: https://hf.co/stefan-it/autotrain-flair-mobie-gbert_base-bs16-e10-lr3e-05-1\n",
      "[7]: https://hf.co/stefan-it/autotrain-flair-mobie-gbert_base-bs16-e10-lr3e-05-2\n",
      "[8]: https://hf.co/stefan-it/autotrain-flair-mobie-gbert_base-bs16-e10-lr3e-05-3\n",
      "[9]: https://hf.co/stefan-it/autotrain-flair-mobie-gbert_base-bs16-e10-lr3e-05-4\n",
      "[10]: https://hf.co/stefan-it/autotrain-flair-mobie-gbert_base-bs16-e10-lr3e-05-5\n"
     ]
    }
   ],
   "source": [
    "# But we need results table with nice references to actual models on the hub\n",
    "# Including highlighted F1-Score (bold) of current model\n",
    "def get_results_table(final_df, model_infos, current_model_info):\n",
    "    headers = final_df.columns.tolist()\n",
    "    \n",
    "    sorted_configurations = final_df[\"Configuration\"].tolist()\n",
    "    sorted_averages = final_df[\"Average\"].tolist()\n",
    "    sorted_stds = final_df[\"Std.\"].tolist()\n",
    "    \n",
    "    rows = []\n",
    "    \n",
    "    ref_counter = 1\n",
    "    ref_list = []\n",
    "    \n",
    "    for sorted_configuration, sorted_average, sorted_std in zip(sorted_configurations, sorted_averages, sorted_stds):\n",
    "        current_row = [f\"`{sorted_configuration}`\"]\n",
    "        \n",
    "        for model_info in model_infos:\n",
    "            if f\"{model_info.batch_size}-{model_info.epoch}-{model_info.learning_rate}\" == sorted_configuration:\n",
    "                # Model belongs to current configuration\n",
    "                # Score + Model link looks like: [0.8585][4]\n",
    "                seed_entry = f\"[{model_info.dev_f1_score}][{ref_counter}]\"\n",
    "                \n",
    "                # Special case: model is current model, so we need to bold it\n",
    "                if model_info == current_model_info:\n",
    "                    seed_entry = f\"[**{model_info.dev_f1_score}**][{ref_counter}]\"\n",
    "    \n",
    "                current_row.append(seed_entry)\n",
    "    \n",
    "                ref_list.append(f\"[{ref_counter}]: https://hf.co/{model_info.model_id}\")\n",
    "                ref_counter += 1\n",
    "    \n",
    "        current_row.append(f\"{sorted_average} ± {sorted_std}\")\n",
    "        \n",
    "        rows.append(current_row)\n",
    "    \n",
    "    #print(final_df[\"Configuration\"].tolist())\n",
    "\n",
    "    results_table = tabulate(rows, headers=headers, tablefmt=\"github\") + \"\\n\\n\" + \"\\n\".join(ref_list)\n",
    "    \n",
    "    return results_table\n",
    "    \n",
    "# Test it:\n",
    "test_results_table = get_results_table(final_df, model_infos, model_infos[4])\n",
    "print(model_infos[4])\n",
    "print(\"\\nTest Results Table:\\n\")\n",
    "print(test_results_table)"
   ]
  },
  {
   "cell_type": "code",
   "execution_count": 215,
   "id": "41bd172b",
   "metadata": {},
   "outputs": [],
   "source": [
    "base_model = \"deepset/gbert-base\"\n",
    "base_model_short = \"GBERT Base\"\n",
    "\n",
    "# Determine them automatically\n",
    "batch_sizes = set([\n",
    "    model_info.batch_size.replace(\"bs\", \"\") for model_info in model_infos\n",
    "])\n",
    "\n",
    "learning_rates = set([\n",
    "    model_info.learning_rate.replace(\"lr\", \"\") for model_info in model_infos\n",
    "])\n",
    "\n",
    "widget_text = \"\"\"\n",
    "PASt ( KvD ) - Polizeipräsidium Westhessen [ Newsroom ] Wiesbaden ( ots ) - Am Sonntag , den 27.01.2019 führte die Autobahnpolizei Wiesbaden in Zusammenarbeit mit der Präsidialwache in der Zeit von 11:00 - 16:00 Uhr eine Geschwindigkeitsmessung in der Baustelle der A66 am Wiesbadener Kreuz durch .\n",
    "\"\"\""
   ]
  },
  {
   "cell_type": "code",
   "execution_count": 224,
   "id": "19d0f6eb",
   "metadata": {},
   "outputs": [
    {
     "name": "stdout",
     "output_type": "stream",
     "text": [
      "https://huggingface.co/stefan-it/autotrain-flair-mobie-gbert_base-bs16-e10-lr3e-05-1/blob/refs%2Fpr%2F2/README.md\n",
      "\n",
      "https://huggingface.co/stefan-it/autotrain-flair-mobie-gbert_base-bs16-e10-lr5e-05-1/blob/refs%2Fpr%2F2/README.md\n",
      "\n",
      "https://huggingface.co/stefan-it/autotrain-flair-mobie-gbert_base-bs16-e10-lr3e-05-2/blob/refs%2Fpr%2F2/README.md\n",
      "\n",
      "https://huggingface.co/stefan-it/autotrain-flair-mobie-gbert_base-bs16-e10-lr5e-05-2/blob/refs%2Fpr%2F2/README.md\n",
      "\n",
      "https://huggingface.co/stefan-it/autotrain-flair-mobie-gbert_base-bs16-e10-lr3e-05-3/blob/refs%2Fpr%2F2/README.md\n",
      "\n",
      "https://huggingface.co/stefan-it/autotrain-flair-mobie-gbert_base-bs16-e10-lr5e-05-3/blob/refs%2Fpr%2F2/README.md\n",
      "\n",
      "https://huggingface.co/stefan-it/autotrain-flair-mobie-gbert_base-bs16-e10-lr3e-05-4/blob/refs%2Fpr%2F2/README.md\n",
      "\n",
      "https://huggingface.co/stefan-it/autotrain-flair-mobie-gbert_base-bs16-e10-lr5e-05-4/blob/refs%2Fpr%2F2/README.md\n",
      "\n",
      "https://huggingface.co/stefan-it/autotrain-flair-mobie-gbert_base-bs16-e10-lr3e-05-5/blob/refs%2Fpr%2F2/README.md\n",
      "\n",
      "https://huggingface.co/stefan-it/autotrain-flair-mobie-gbert_base-bs16-e10-lr5e-05-5/blob/refs%2Fpr%2F2/README.md\n",
      "\n"
     ]
    }
   ],
   "source": [
    "# Now let's create model cards for all fine-tuned models 🤗\n",
    "# Use this to create follow-up PRs when modifications are made in model card template!\n",
    "\n",
    "commit_message = \"readme: add initial version of model card\"\n",
    "commit_description = \"Hey,\\n\\nthis PR adds the initial version of model card.\"\n",
    "create_pr = True\n",
    "\n",
    "for model in model_infos:\n",
    "    current_results_table = get_results_table(final_df, model_infos, model)\n",
    "    card_data = ModelCardData()\n",
    "    card = ModelCard.from_template(card_data, template_path=\"model_card_template.md\",\n",
    "                                   base_model=base_model,\n",
    "                                   base_model_short=base_model_short,\n",
    "                                   batch_sizes=f'[{\", \".join([f\"`{bs}`\" for bs in batch_sizes ])}]',\n",
    "                                   learning_rates=f'[{\", \".join([f\"`{lr}`\" for lr in learning_rates ])}]',\n",
    "                                   results=current_results_table,\n",
    "                                   widget_text=widget_text.strip()\n",
    "                                  )\n",
    "\n",
    "    commit_url = card.push_to_hub(repo_id=model.model_id,\n",
    "                                  create_pr=create_pr,\n",
    "                                  commit_message=commit_message,\n",
    "                                  commit_description=commit_description)\n",
    "    \n",
    "    print(commit_url + \"\\n\")"
   ]
  },
  {
   "cell_type": "code",
   "execution_count": 235,
   "id": "a87b2c5f",
   "metadata": {},
   "outputs": [
    {
     "name": "stdout",
     "output_type": "stream",
     "text": [
      "---\n",
      "language: de\n",
      "license: mit\n",
      "tags:\n",
      "- flair\n",
      "- token-classification\n",
      "- sequence-tagger-model\n",
      "base_model: deepset/gbert-base\n",
      "widget:\n",
      "- text: PASt ( KvD ) - Polizeipräsidium Westhessen [ Newsroom ] Wiesbaden ( ots )\n",
      "    - Am Sonntag , den 27.01.2019 führte die Autobahnpolizei Wiesbaden in Zusammenarbeit\n",
      "    mit der Präsidialwache in der Zeit von 11:00 - 16:00 Uhr eine Geschwindigkeitsmessung\n",
      "    in der Baustelle der A66 am Wiesbadener Kreuz durch .\n",
      "---\n",
      "\n",
      "# Fine-tuned Flair Model on German MobIE Dataset with AutoTrain\n",
      "\n",
      "This Flair model was fine-tuned on the\n",
      "[German MobIE](https://aclanthology.org/2021.konvens-1.22/)\n",
      "NER Dataset using GBERT Base as backbone LM and the 🚀 [AutoTrain](https://github.com/huggingface/autotrain-advanced)\n",
      "library.\n",
      "\n",
      "## Dataset\n",
      "\n",
      "The [German MobIE](https://github.com/DFKI-NLP/MobIE) dataset is a German-language dataset, which is human-annotated\n",
      "with 20 coarse- and fine-grained entity types and entity linking information for geographically linkable entities. The\n",
      "dataset consists of 3,232 social media texts and traffic reports with 91K tokens, and contains 20.5K annotated\n",
      "entities, 13.1K of which are linked to a knowledge base.\n",
      "\n",
      "The following named entities are annotated:\n",
      "\n",
      "* `location-stop`\n",
      "* `trigger`\n",
      "* `organization-company`\n",
      "* `location-city`\n",
      "* `location`\n",
      "* `event-cause`\n",
      "* `location-street`\n",
      "* `time`\n",
      "* `date`\n",
      "* `number`\n",
      "* `duration`\n",
      "* `organization`\n",
      "* `person`\n",
      "* `set`\n",
      "* `distance`\n",
      "* `disaster-type`\n",
      "* `money`\n",
      "* `org-position`\n",
      "* `percent`\n",
      "\n",
      "## Fine-Tuning\n",
      "\n",
      "The latest [Flair version](https://github.com/flairNLP/flair/tree/42ea3f6854eba04387c38045f160c18bdaac07dc) is used for\n",
      "fine-tuning. Additionally, the model is trained with the\n",
      "[FLERT (Schweter and Akbik (2020)](https://arxiv.org/abs/2011.06993) approach, because the MobIE dataset thankfully\n",
      "comes with document boundary information marker.\n",
      "\n",
      "A hyper-parameter search over the following parameters with 5 different seeds per configuration is performed:\n",
      "\n",
      "* Batch Sizes: [`16`]\n",
      "* Learning Rates: [`5e-05`, `3e-05`]\n",
      "\n",
      "All models are trained with the awesome [AutoTrain Advanced](https://github.com/huggingface/autotrain-advanced) from\n",
      "Hugging Face. More details can be found in this [repository](https://github.com/stefan-it/autotrain-flair-mobie).\n",
      "\n",
      "## Results\n",
      "\n",
      "A hyper-parameter search with 5 different seeds per configuration is performed and micro F1-score on development set\n",
      "is reported:\n",
      "\n",
      "| Configuration      | Seed 1      | Seed 2      | Seed 3      | Seed 4      | Seed 5          | Average         |\n",
      "|--------------------|-------------|-------------|-------------|-------------|-----------------|-----------------|\n",
      "| `bs16-e10-lr5e-05` | [0.8446][1] | [0.8495][2] | [0.8455][3] | [0.8419][4] | [**0.8476**][5] | 0.8458 ± 0.0029 |\n",
      "| `bs16-e10-lr3e-05` | [0.8392][6] | [0.8445][7] | [0.8495][8] | [0.8381][9] | [0.8449][10]    | 0.8432 ± 0.0046 |\n",
      "\n",
      "[1]: https://hf.co/stefan-it/autotrain-flair-mobie-gbert_base-bs16-e10-lr5e-05-1\n",
      "[2]: https://hf.co/stefan-it/autotrain-flair-mobie-gbert_base-bs16-e10-lr5e-05-2\n",
      "[3]: https://hf.co/stefan-it/autotrain-flair-mobie-gbert_base-bs16-e10-lr5e-05-3\n",
      "[4]: https://hf.co/stefan-it/autotrain-flair-mobie-gbert_base-bs16-e10-lr5e-05-4\n",
      "[5]: https://hf.co/stefan-it/autotrain-flair-mobie-gbert_base-bs16-e10-lr5e-05-5\n",
      "[6]: https://hf.co/stefan-it/autotrain-flair-mobie-gbert_base-bs16-e10-lr3e-05-1\n",
      "[7]: https://hf.co/stefan-it/autotrain-flair-mobie-gbert_base-bs16-e10-lr3e-05-2\n",
      "[8]: https://hf.co/stefan-it/autotrain-flair-mobie-gbert_base-bs16-e10-lr3e-05-3\n",
      "[9]: https://hf.co/stefan-it/autotrain-flair-mobie-gbert_base-bs16-e10-lr3e-05-4\n",
      "[10]: https://hf.co/stefan-it/autotrain-flair-mobie-gbert_base-bs16-e10-lr3e-05-5\n",
      "\n",
      "The result in bold shows the performance of this model.\n",
      "\n",
      "Additionally, the Flair [training log](training.log) and [TensorBoard logs](tensorboard) are also uploaded to the model\n",
      "hub.\n"
     ]
    }
   ],
   "source": [
    "# Get preview of last created model hub card\n",
    "print(card)"
   ]
  },
  {
   "cell_type": "code",
   "execution_count": 239,
   "id": "a405c1d5",
   "metadata": {},
   "outputs": [
    {
     "name": "stdout",
     "output_type": "stream",
     "text": [
      "Update visibility to True for repo https://hf.co/stefan-it/autotrain-flair-mobie-gbert_base-bs16-e10-lr3e-05-1\n",
      "Update visibility to True for repo https://hf.co/stefan-it/autotrain-flair-mobie-gbert_base-bs16-e10-lr5e-05-1\n",
      "Update visibility to True for repo https://hf.co/stefan-it/autotrain-flair-mobie-gbert_base-bs16-e10-lr3e-05-2\n",
      "Update visibility to True for repo https://hf.co/stefan-it/autotrain-flair-mobie-gbert_base-bs16-e10-lr5e-05-2\n",
      "Update visibility to True for repo https://hf.co/stefan-it/autotrain-flair-mobie-gbert_base-bs16-e10-lr3e-05-3\n",
      "Update visibility to True for repo https://hf.co/stefan-it/autotrain-flair-mobie-gbert_base-bs16-e10-lr5e-05-3\n",
      "Update visibility to True for repo https://hf.co/stefan-it/autotrain-flair-mobie-gbert_base-bs16-e10-lr3e-05-4\n",
      "Update visibility to True for repo https://hf.co/stefan-it/autotrain-flair-mobie-gbert_base-bs16-e10-lr5e-05-4\n",
      "Update visibility to True for repo https://hf.co/stefan-it/autotrain-flair-mobie-gbert_base-bs16-e10-lr3e-05-5\n",
      "Update visibility to True for repo https://hf.co/stefan-it/autotrain-flair-mobie-gbert_base-bs16-e10-lr5e-05-5\n"
     ]
    }
   ],
   "source": [
    "# Now make repositories publicly visible\n",
    "for model in model_infos:\n",
    "    print(f\"Update visibility to True for repo https://hf.co/{model.model_id}\")\n",
    "    update_repo_visibility(repo_id=model.model_id, private=False)"
   ]
  }
 ],
 "metadata": {
  "kernelspec": {
   "display_name": "Python 3 (ipykernel)",
   "language": "python",
   "name": "python3"
  },
  "language_info": {
   "codemirror_mode": {
    "name": "ipython",
    "version": 3
   },
   "file_extension": ".py",
   "mimetype": "text/x-python",
   "name": "python",
   "nbconvert_exporter": "python",
   "pygments_lexer": "ipython3",
   "version": "3.11.4"
  }
 },
 "nbformat": 4,
 "nbformat_minor": 5
}
